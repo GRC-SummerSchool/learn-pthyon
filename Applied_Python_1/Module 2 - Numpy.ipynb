{
 "cells": [
  {
   "cell_type": "markdown",
   "metadata": {},
   "source": [
    "### Getting Started\n",
    "\n",
    "Numpy is the core library for scientific computing in Python. It provides a high-performance multidimensional array object, and tools for working with these arrays.\n",
    "\n",
    "The Numpy source documentation can be found here:\n",
    "http://www.numpy.org/\n",
    "\n",
    "A quickstart tutorial can be found here:\n",
    "https://docs.scipy.org/doc/numpy/user/quickstart.html\n",
    "\n",
    "Let's start by importing the numpy package and giving it an alias. The most common alias is \"np\" so we'll do that."
   ]
  },
  {
   "cell_type": "code",
   "execution_count": null,
   "metadata": {},
   "outputs": [],
   "source": [
    "from evaluation import day2_eval1, day2_eval2\n",
    "import numpy as np"
   ]
  },
  {
   "cell_type": "code",
   "execution_count": null,
   "metadata": {},
   "outputs": [],
   "source": [
    "#Lets inspect the numpy module\n",
    "np.lib?"
   ]
  },
  {
   "cell_type": "markdown",
   "metadata": {},
   "source": [
    "### Array Generators\n",
    "\n",
    "Numpy provides a number of constructors for creating n-dimenionsonal arrays. Below is a summary of some of the more common. "
   ]
  },
  {
   "cell_type": "code",
   "execution_count": null,
   "metadata": {},
   "outputs": [],
   "source": [
    "data = [1,2,3,4,5]\n",
    "a = np.array(data)\n",
    "print('From a list of ints: ', a, a.dtype)\n",
    "\n",
    "data = [1.,2.,3.,4.,5.]\n",
    "a = np.array(data)\n",
    "print('From a list of floats: ', a, a.dtype)\n",
    "print('Note that the constructor infers the data type from the input argument.\\n')\n",
    "\n",
    "no_entries = 5\n",
    "a = np.arange(no_entries)\n",
    "print('Range constructor: ', a, a.dtype)\n",
    "\n",
    "a = np.ones(no_entries)\n",
    "print('\\nUnit array constructor: ', a, a.dtype)\n",
    "\n",
    "a = np.zeros(no_entries)\n",
    "print('Zero array constructor: ', a, a.dtype)\n",
    "\n",
    "begin = 0\n",
    "end = 4\n",
    "no_intervals = 5\n",
    "a = np.linspace(begin,end,no_intervals)\n",
    "print('\\nLine space constructor: ', a, a.dtype)\n",
    "\n",
    "a = np.logspace(begin,end,no_intervals)\n",
    "print('Log space constructor: ', a, a.dtype)\n",
    "\n",
    "a = np.random.randint(begin,end,no_intervals)\n",
    "print('\\nRandom integer constructor: ', a, a.dtype)\n",
    "\n",
    "a = np.random.rand(5)\n",
    "print('Random float constructor: ', a, a.dtype)\n"
   ]
  },
  {
   "cell_type": "markdown",
   "metadata": {},
   "source": [
    "### Rank Definitions in Numpy\n",
    "The default output of a constructor is a 1-dimensional array of length (m). A 2-D vector can be generated as a m x 1 column vector, or 1 x m row vector by providing the appropriate ordered list as input."
   ]
  },
  {
   "cell_type": "code",
   "execution_count": null,
   "metadata": {},
   "outputs": [],
   "source": [
    "#1-D array\n",
    "v = [1,2,3,4,5]\n",
    "a = np.array(v)\n",
    "print(v)\n",
    "print('%d element array'%a.shape[0])\n",
    "print(a.shape, '\\n')\n",
    "\n",
    "#Column vector\n",
    "v = [[1],\n",
    "     [2],\n",
    "     [3],\n",
    "     [4],\n",
    "     [5]]\n",
    "a = np.array(v)\n",
    "print(v)\n",
    "print('%d x %d column vector'%a.shape)\n",
    "print(a.shape, '\\n')\n",
    "\n",
    "#Row vector\n",
    "v = [[1,2,3,4,5]]\n",
    "a = np.array(v)\n",
    "print(v)\n",
    "print('%d x %d row vector'%a.shape)\n",
    "print(a.shape, '\\n')\n",
    "\n",
    "#Matrix\n",
    "M = [[1,2],[3,4]]\n",
    "a = np.array(M)\n",
    "print(M)\n",
    "print('%d x %d matrix'%a.shape)\n",
    "print(a.shape, '\\n')\n",
    "\n",
    "#Tensor\n",
    "T = [[[1,2], [3,4]],[[5,6], [7,8]]]\n",
    "a = np.array(T)\n",
    "print(T)\n",
    "print('%d x %d x %d tensor'%a.shape)\n",
    "print(a.shape, '\\n')\n"
   ]
  },
  {
   "cell_type": "code",
   "execution_count": null,
   "metadata": {},
   "outputs": [],
   "source": [
    "np.array([[[1,2,3],\n",
    "  [3,4,3]],\n",
    " [[5,6,3],\n",
    "  [7,8,3]]]).shape"
   ]
  },
  {
   "cell_type": "code",
   "execution_count": null,
   "metadata": {},
   "outputs": [],
   "source": [
    "a.shape"
   ]
  },
  {
   "cell_type": "markdown",
   "metadata": {},
   "source": [
    "### Size/Shape/Type Manipulation\n",
    "Once an array is created, you can manipulate its size, shape, and data type using a number of methods. To change data types, the simplest is to recast the array as a new datatype."
   ]
  },
  {
   "cell_type": "code",
   "execution_count": null,
   "metadata": {},
   "outputs": [],
   "source": [
    "a = np.arange(no_entries)\n",
    "print(a, a.dtype)\n",
    "\n",
    "b = a.astype(float)\n",
    "print(b, b.dtype)\n",
    "\n",
    "c = np.arange(12).reshape([4,3])\n",
    "print(c)\n",
    "c.shape"
   ]
  },
  {
   "cell_type": "markdown",
   "metadata": {},
   "source": [
    "Exercise 1. Create a 100 element array using the Line Space constructor. Convert the array to an integer array. Submit to day2_eval1() to see if you got it right."
   ]
  },
  {
   "cell_type": "code",
   "execution_count": null,
   "metadata": {},
   "outputs": [],
   "source": [
    "ans = np.linspace(0,5,100)\n",
    "ans = ans.astype(int)\n",
    "day2_eval1(ans)"
   ]
  },
  {
   "cell_type": "markdown",
   "metadata": {},
   "source": [
    "A NumPy array's shape can be changed using the reshape method. The reshape method creates a new array object in memory in the requested shape. This object must be sent to a variable if you wish to persist it."
   ]
  },
  {
   "cell_type": "code",
   "execution_count": null,
   "metadata": {},
   "outputs": [],
   "source": [
    "a = np.arange(24)\n",
    "print('\\n', a, '\\n Size: ', a.size, '\\n Shape:', a.shape)\n",
    "\n",
    "b = a.reshape([2,12])\n",
    "print('\\n', b, '\\n Size: ', b.size, '\\n Shape: ', b.shape)\n",
    "\n",
    "b = a.reshape([2,-1])\n",
    "print('\\n', b, '\\n Size: ', b.size, '\\n Shape: ', b.shape)\n",
    "\n",
    "c = a.reshape([2,-1,3])\n",
    "print('\\n', c, '\\n Size: ', c.size, '\\n Shape: ', c.shape)"
   ]
  },
  {
   "cell_type": "markdown",
   "metadata": {},
   "source": [
    "You use the concatenate method to increase the size of an array along the existing array dimension. It is possible to add additional dimenstions to a NumPy array by using varios stacking methods such as stack, hstack, & vstack. Some examples follow below."
   ]
  },
  {
   "cell_type": "code",
   "execution_count": null,
   "metadata": {},
   "outputs": [],
   "source": [
    "# Extending the current size of an array along the existing dimension\n",
    "a = np.arange(24)\n",
    "b = np.concatenate([a,a])\n",
    "print('\\n', b, '\\n Size: ', b.size, '\\n Shape: ', b.shape)\n",
    "\n",
    "# Using reshape to change the dimensionality of an existing array.\n",
    "a = a.reshape([1,24])\n",
    "\n",
    "# Using vstack to add a row dimension to an existing array.\n",
    "b = np.vstack([a,a])\n",
    "print('\\n', b, '\\n Size: ', b.size, '\\n Shape: ', b.shape)\n",
    "\n",
    "# Using hstack to add a columnar dimension to an existing array.\n",
    "a = a.reshape([24,1])\n",
    "b = np.hstack([a,a])\n",
    "print('\\n', b, '\\n Size: ', b.size, '\\n Shape: ', b.shape)\n"
   ]
  },
  {
   "cell_type": "code",
   "execution_count": null,
   "metadata": {},
   "outputs": [],
   "source": [
    "# Using stack with the axis keyword to yield columnar and row dimensions\n",
    "a = np.arange(24)\n",
    "b = np.stack([a,a], axis=0)\n",
    "print('\\n', b, '\\n Size: ', b.size, '\\n Shape: ', b.shape)\n",
    "\n",
    "b = np.stack([a,a], axis=1)\n",
    "print('\\n', b, '\\n Size: ', b.size, '\\n Shape: ', b.shape)\n",
    "\n"
   ]
  },
  {
   "cell_type": "code",
   "execution_count": null,
   "metadata": {},
   "outputs": [],
   "source": [
    "b = b.reshape(-1,3)\n",
    "c = np.stack([b,b], axis=2)\n",
    "c.shape"
   ]
  },
  {
   "cell_type": "code",
   "execution_count": null,
   "metadata": {},
   "outputs": [],
   "source": [
    "# Concatenate with axis keyword allows you to extend along a specified dimension\n",
    "a = a.reshape([1,24])\n",
    "b = np.concatenate([a,a])\n",
    "print('\\n', b, '\\n Size: ', b.size, '\\n Shape: ', b.shape)\n",
    "\n",
    "a = a.reshape([1,24])\n",
    "b = np.concatenate([a,a], axis=1)\n",
    "print('\\n', b, '\\n Size: ', b.size, '\\n Shape: ', b.shape)\n"
   ]
  },
  {
   "cell_type": "markdown",
   "metadata": {},
   "source": [
    "Exercise 2. Create an array of size 120 and shape (3,10,4) using at least one stack or concatenate operation. Submit to day2_eval2() to see if you got it right."
   ]
  },
  {
   "cell_type": "code",
   "execution_count": null,
   "metadata": {},
   "outputs": [],
   "source": [
    "a = np.ones([10,4])\n",
    "b = np.stack([a,a,a], axis=0)\n",
    "day2_eval2(b)"
   ]
  },
  {
   "cell_type": "code",
   "execution_count": null,
   "metadata": {},
   "outputs": [],
   "source": [
    "a = np.ones([1,10,4])\n",
    "b = np.concatenate([a,a,a], axis=0)\n",
    "day2_eval2(b)"
   ]
  },
  {
   "cell_type": "code",
   "execution_count": null,
   "metadata": {},
   "outputs": [],
   "source": [
    "shape = b.shape\n",
    "shape == (3,10,4)"
   ]
  },
  {
   "cell_type": "markdown",
   "metadata": {},
   "source": [
    "### Filter/Sort/Select\n",
    "There are two ways of sorting arrays. The numpy.sort method sorts an array and returns a new array as an object in memory. A variable must be assigned to persist this array. The array.sort method sorts the current array in place."
   ]
  },
  {
   "cell_type": "code",
   "execution_count": null,
   "metadata": {},
   "outputs": [],
   "source": [
    "# Sorting in place with array.sort\n",
    "a = np.array([10,4,3,7,2,9,1,6,5,8])\n",
    "\n",
    "a.sort()\n",
    "print(\"Forward order sort in place: \", a, '\\n')\n",
    "\n",
    "rev_a = -a\n",
    "rev_a.sort()\n",
    "a = -rev_a\n",
    "print(\"Reverse order sort: \", a, '\\n')\n",
    "\n",
    "a = np.array([10,4,3,7,2,9,1,6,5,8])\n",
    "\n",
    "a[::-1].sort()\n",
    "print(\"Reverse order sort: \", a, '\\n')\n",
    "\n",
    "a = a.reshape([2,-1])\n",
    "print(\"Reverse order sort, reshape into 2 rows: \\n\", a, '\\n')\n",
    "\n",
    "a.sort(axis=1)\n",
    "print(\"Forward sort along the row axis (1): \\n\", a, '\\n')\n",
    "\n",
    "a = np.array([10,4,3,7,2,9,1,6,5,8])\n",
    "a[::-1].sort()\n",
    "a = a.reshape([2,-1])\n",
    "a.sort(axis=0)\n",
    "print(\"Reverse sort along the row axis (1), forward sort along columnar axis (0): \\n\", a, '\\n')"
   ]
  },
  {
   "cell_type": "code",
   "execution_count": null,
   "metadata": {},
   "outputs": [],
   "source": [
    "# Sorting to create a new array using np.sort\n",
    "\n",
    "# Recall the following reverse sort?\n",
    "# rev_a = -a\n",
    "# rev_a.sort()\n",
    "# a = -rev_a\n",
    "\n",
    "a = np.array([10,4,3,7,2,9,1,6,5,8])\n",
    "b = -np.sort(-a)\n",
    "print(\"Reverse order sort: \", b, '\\n')\n"
   ]
  },
  {
   "cell_type": "code",
   "execution_count": null,
   "metadata": {},
   "outputs": [],
   "source": [
    "#Conditional Filtering\n",
    "a = np.random.randint(0,10,20)\n",
    "a = a.reshape([4,-1])\n",
    "print('Here is our array\\n',a)\n",
    "fltr = a==3\n",
    "print('\\nFilter is a boolean array\\n', fltr)\n",
    "print('\\nHere is our filtered array', a[fltr])"
   ]
  },
  {
   "cell_type": "code",
   "execution_count": null,
   "metadata": {},
   "outputs": [],
   "source": [
    "a = np.array([10,4,3,7,2,9,1,6,5,8])\n",
    "id(a)"
   ]
  },
  {
   "cell_type": "code",
   "execution_count": null,
   "metadata": {},
   "outputs": [],
   "source": [
    "a.sort()\n",
    "id(a)"
   ]
  },
  {
   "cell_type": "code",
   "execution_count": null,
   "metadata": {},
   "outputs": [],
   "source": [
    "a.sort()\n",
    "a"
   ]
  },
  {
   "cell_type": "code",
   "execution_count": null,
   "metadata": {},
   "outputs": [],
   "source": [
    "a = np.array([10,4,3,7,2,9,1,6,5,8])\n",
    "id(a)"
   ]
  },
  {
   "cell_type": "code",
   "execution_count": null,
   "metadata": {},
   "outputs": [],
   "source": [
    "a = np.sort(a)\n",
    "id(a)"
   ]
  },
  {
   "cell_type": "code",
   "execution_count": null,
   "metadata": {},
   "outputs": [],
   "source": [
    "a"
   ]
  },
  {
   "cell_type": "code",
   "execution_count": null,
   "metadata": {},
   "outputs": [],
   "source": [
    "#Conditional Filtering\n",
    "a = np.random.randint(0,10,20)\n",
    "a = a.reshape([4,-1])\n",
    "print('Here is our array\\n',a)\n",
    "case_1 = a>=3\n",
    "case_2 = a<=7\n",
    "fltr = np.logical_and(case_1,case_2)\n",
    "print('\\nFilter is a boolean array\\n', fltr)\n",
    "print('\\nHere is our filtered array', a[fltr])"
   ]
  },
  {
   "cell_type": "code",
   "execution_count": null,
   "metadata": {},
   "outputs": [],
   "source": [
    "#Index Slicing\n",
    "a = np.arange(100)\n",
    "print('Gimme element 20 as a single value\\n', a[20])\n",
    "print('Gimme element 20 as an array\\n', a[20:21])\n",
    "print('Gimme elements 1 through 4 as an array\\n', a[1:5])\n",
    "print('Gimme all elements from the beginning through element 4 as an array\\n', a[:5])\n",
    "print('Gimme all elements from element 95 to the end as an array\\n', a[95:])\n",
    "print('Gimme elements 1,3,5,and 9\\n', a[[1,3,5,9]])"
   ]
  },
  {
   "cell_type": "markdown",
   "metadata": {},
   "source": [
    "### Some Basic Array Math"
   ]
  },
  {
   "cell_type": "code",
   "execution_count": null,
   "metadata": {},
   "outputs": [],
   "source": [
    "# Element-wise operations with single values\n",
    "a = np.arange(10)\n",
    "print(a + 2, '\\n')\n",
    "print(a - 2, '\\n')\n",
    "print(a * 2, '\\n')\n",
    "print(a / 2, '\\n')"
   ]
  },
  {
   "cell_type": "code",
   "execution_count": null,
   "metadata": {},
   "outputs": [],
   "source": [
    "#Element-wise operations with \n",
    "a = np.arange(1,10).reshape(3,-1)\n",
    "print(a + a, '\\n')\n",
    "print(a - a, '\\n')\n",
    "print(a * a, '\\n')\n",
    "print(a / a, '\\n')"
   ]
  },
  {
   "cell_type": "code",
   "execution_count": null,
   "metadata": {},
   "outputs": [],
   "source": [
    "# Summary functions using array methods and axis keywords\n",
    "a = np.arange(1,10).reshape(3,-1)\n",
    "print('Here is our array \\n', a, '\\n')\n",
    "print('Array min \\n', a.min(), '\\nColumn mins \\n', a.min(axis=0), '\\nRow mins \\n', a.min(axis=1), '\\n')\n",
    "print('\\nArray max \\n', a.max(), '\\nColumn maxs \\n', a.max(axis=0), '\\nRow maxs \\n', a.max(axis=1), '\\n')\n",
    "print('\\nArray mean \\n', a.mean(), '\\nColumn means \\n', a.mean(axis=0), '\\nRow means \\n', a.mean(axis=1), '\\n')\n",
    "print('\\nArray std dev \\n', a.std(), '\\nColumn std devs \\n', a.std(axis=0), '\\nRow std devs \\n', a.std(axis=1), '\\n')\n",
    "print('\\nArray sum \\n', a.sum(), '\\nColumn sums \\n', a.sum(axis=0), '\\nRow sums \\n', a.sum(axis=1), '\\n')\n",
    "print('\\nArray product \\n', a.prod(), '\\nColumn products \\n', a.prod(axis=0), '\\nRow products \\n', a.prod(axis=1), '\\n')\n",
    "print('\\nArray cumul. sum \\n', a.cumsum(), '\\nColumn cumul. sums \\n', a.cumsum(axis=0), '\\nRow cumul. sums \\n', a.cumsum(axis=1), '\\n')\n",
    "print('\\nArray cumul. product \\n', a.cumprod(), '\\nColumn cumul. products \\n', a.cumprod(axis=0), '\\nRow cumul. products \\n', a.cumprod(axis=1), '\\n')"
   ]
  },
  {
   "cell_type": "code",
   "execution_count": null,
   "metadata": {},
   "outputs": [],
   "source": [
    "# Applying functions to an array\n",
    "\n",
    "a = np.arange(1,5).reshape(2,-1)\n",
    "print('Here is our array \\n', a)\n",
    "print('\\nsin(a * pi) \\n', np.sin(a * np.pi))\n",
    "print('\\ncos(a * pi) \\n', np.cos(a * np.pi))\n",
    "print('\\ntan(a * pi) \\n', np.tan(a * np.pi))"
   ]
  },
  {
   "cell_type": "code",
   "execution_count": null,
   "metadata": {},
   "outputs": [],
   "source": [
    "# Matrix functions & basic linalg\n",
    "\n",
    "a = np.arange(1,10).reshape(3,-1)\n",
    "print('Here is our array \\n', a)\n",
    "print('\\nDot Product \\n',np.dot(a,a))\n",
    "print('\\nCross Product \\n',np.cross(a,a))\n",
    "print('\\nDeterminant \\n',np.linalg.det(a))\n",
    "print('\\nMagnitude \\n',np.linalg.norm(a))\n",
    "print('\\nMatrix Diagonal \\n',np.diag(a))"
   ]
  },
  {
   "cell_type": "markdown",
   "metadata": {},
   "source": [
    "### Save/Load"
   ]
  },
  {
   "cell_type": "code",
   "execution_count": null,
   "metadata": {},
   "outputs": [],
   "source": [
    "np.save('test',a)\n",
    "b = np.load('test.npy')\n",
    "\n",
    "# Boolean comparisons\n",
    "print(a == b)\n",
    "print((a == b).any())\n",
    "print((a == b).all())\n"
   ]
  },
  {
   "cell_type": "code",
   "execution_count": null,
   "metadata": {},
   "outputs": [],
   "source": []
  }
 ],
 "metadata": {
  "kernelspec": {
   "display_name": "Python 3",
   "language": "python",
   "name": "python3"
  },
  "language_info": {
   "codemirror_mode": {
    "name": "ipython",
    "version": 3
   },
   "file_extension": ".py",
   "mimetype": "text/x-python",
   "name": "python",
   "nbconvert_exporter": "python",
   "pygments_lexer": "ipython3",
   "version": "3.7.0"
  }
 },
 "nbformat": 4,
 "nbformat_minor": 2
}
