{
 "cells": [
  {
   "cell_type": "code",
   "execution_count": null,
   "metadata": {},
   "outputs": [],
   "source": [
    "import pandas as pd\n",
    "import numpy as np\n",
    "import scipy.optimize as opt\n",
    "import matplotlib.pyplot as plt\n",
    "\n",
    "scenario1 = 'scenario1.csv'\n",
    "scenario2 = 'scenario2.csv'\n",
    "scenario3 = 'scenario3.csv'\n",
    "scenario4 = 'scenario4.csv'\n",
    "\n",
    "%matplotlib inline"
   ]
  },
  {
   "cell_type": "markdown",
   "metadata": {},
   "source": [
    "## The Hansel & Gretel Challenge\n",
    "\n",
    "Hansel and Gretel will follow a path to the gumdrop house. As our hero, you must interecept them before they reach the gumdrop house or the evil witch will have Hansel & Gretel for lunch! A dataset will be assigned to you that tracks the path of that the witches last victims took to the gumdrop house. Using the skills we've learned over the past 3 days create a numpy array that contains predictions from a function you've created with the supplied data. Email the numpy array as a .npy file to the instructor to see if you can save Hansel & Gretel from the evil witches grasp. You will have 20 minutes."
   ]
  },
  {
   "cell_type": "code",
   "execution_count": null,
   "metadata": {},
   "outputs": [],
   "source": []
  },
  {
   "cell_type": "code",
   "execution_count": null,
   "metadata": {},
   "outputs": [],
   "source": []
  }
 ],
 "metadata": {
  "kernelspec": {
   "display_name": "Python 3",
   "language": "python",
   "name": "python3"
  },
  "language_info": {
   "codemirror_mode": {
    "name": "ipython",
    "version": 3
   },
   "file_extension": ".py",
   "mimetype": "text/x-python",
   "name": "python",
   "nbconvert_exporter": "python",
   "pygments_lexer": "ipython3",
   "version": "3.7.0"
  }
 },
 "nbformat": 4,
 "nbformat_minor": 2
}
