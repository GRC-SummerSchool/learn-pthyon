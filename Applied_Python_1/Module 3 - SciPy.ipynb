{
 "cells": [
  {
   "cell_type": "markdown",
   "metadata": {},
   "source": [
    "### Getting Started\n",
    "\n",
    "SciPy is the application level library for scientific computing in Python. It provides an assortment of tools for linear algebra, optimization, interpolation, statistics, and signal processing.\n",
    "\n",
    "The SciPy source documentation can be found here:\n",
    "<br>https://www.scipy.org/\n",
    "\n",
    "A quickstart tutorial can be found here:\n",
    "<br>https://docs.scipy.org/doc/scipy/reference/tutorial/index.html\n",
    "\n",
    "Documentation on optimization and curve-fitting can be found here:\n",
    "<br>https://docs.scipy.org/doc/scipy/reference/tutorial/optimize.html\n",
    "\n",
    "Let's start by importing elements of the scipy.optimize package. We'll also import the scipy.interpolate package with the \"ipt\" alias, and the numpy package with the np alias. We'll finish by importing the pyplot package from matplotlib with the \"plt\" alias."
   ]
  },
  {
   "cell_type": "code",
   "execution_count": null,
   "metadata": {},
   "outputs": [],
   "source": [
    "import scipy.interpolate as itp\n",
    "from scipy.optimize import fsolve, curve_fit, minimize\n",
    "import numpy as np\n",
    "import matplotlib.pyplot as plt\n",
    "from evaluation import day3_eval1, day3_eval2\n",
    "\n",
    "%matplotlib inline"
   ]
  },
  {
   "cell_type": "code",
   "execution_count": null,
   "metadata": {},
   "outputs": [],
   "source": [
    "#Let's inspect the optimize module\n",
    "from scipy import optimize\n",
    "optimize.minimize?"
   ]
  },
  {
   "cell_type": "code",
   "execution_count": null,
   "metadata": {},
   "outputs": [],
   "source": [
    "#Let's inspect the interpolate module\n",
    "itp?"
   ]
  },
  {
   "cell_type": "markdown",
   "metadata": {},
   "source": [
    "### Solving Systems of Equations\n",
    "\n",
    "SciPy offers a convenience function for solving systems of equations. Consider the following system of equations:\n",
    "\n",
    "$x + y^{2} - 4 = 0$\n",
    "<br>$e^{x} + xy - 3 = 0$\n",
    "\n",
    "We will use the <i> fsolve </i> function to simultaneously solve for x and y."
   ]
  },
  {
   "cell_type": "code",
   "execution_count": null,
   "metadata": {},
   "outputs": [],
   "source": [
    "# Create a system of equations function that accepts the equation terms as \n",
    "# parameters (p) and returns the system results as a tuple.\n",
    "\n",
    "def equations(p):\n",
    "    \"\"\"\n",
    "    param p: a tuple containing values for x and y\n",
    "    \n",
    "    returns: a tuple of equation outputs given x and y\n",
    "    \"\"\"\n",
    "    x, y = p\n",
    "    \n",
    "    equation1 = x + y**2 - 4\n",
    "    equation2 = np.exp(x) + x * y - 3\n",
    "    \n",
    "    return (equation1, equation2)\n",
    "\n",
    "print(equations((1, 1)))"
   ]
  },
  {
   "cell_type": "code",
   "execution_count": null,
   "metadata": {},
   "outputs": [],
   "source": [
    "# Solve for system terms given a starting guess (p0) and the system of equations function\n",
    "p0 = (1, 1)\n",
    "x, y =  fsolve(equations, p0)\n",
    "print(x,y)"
   ]
  },
  {
   "cell_type": "markdown",
   "metadata": {},
   "source": [
    "Exercise 1. Consider the following system of equations:\n",
    "\n",
    "$3x^{2} - 4y + xz = 2$\n",
    "<br>$xy - 5yx + 3x = 2$\n",
    "<br>$2e^{xy/z} + 2yz + z = 4$\n",
    "\n",
    "Use the <i> fsolve </i> function to simultaneously solve for x, y, and z. Submit your answers to day3_eval1() for asssement."
   ]
  },
  {
   "cell_type": "code",
   "execution_count": null,
   "metadata": {},
   "outputs": [],
   "source": [
    "def eqs(p):\n",
    "    \n",
    "    x, y, z = p\n",
    "    \n",
    "    eq1 = 3 * x ** 2 - 4 * y + x * z - 2\n",
    "    eq2 = x * y - 5 * y * x + 3 * x - 2\n",
    "    eq3 = 2 * np.exp(x * y / z) + 2 * y * z + z - 4\n",
    "    \n",
    "    return (eq1, eq2, eq3)\n",
    "\n",
    "p0 = (1, 1, 1)\n",
    "x, y, z =  fsolve(eqs, p0)\n",
    "print(x,y,z)\n",
    "\n",
    "day3_eval1(np.array([x, y, z]))"
   ]
  },
  {
   "cell_type": "code",
   "execution_count": null,
   "metadata": {},
   "outputs": [],
   "source": [
    "fsolve?"
   ]
  },
  {
   "cell_type": "markdown",
   "metadata": {},
   "source": [
    "### Interpolation\n",
    "\n",
    "Interpolation functions are provided as part of the SciPy library. Interpolation is used to fill in missing data in a data set in a principled way. It is a good tool for rudimentary upsampling. It's also a good way to visualize data and infer functions for curve fitting.\n",
    "\n",
    "Let's get started with a simple 1-dimensional linear interpolation."
   ]
  },
  {
   "cell_type": "code",
   "execution_count": null,
   "metadata": {},
   "outputs": [],
   "source": [
    "# Actual signal generation function\n",
    "def f(x):\n",
    "    return np.sin(x * np.pi)\n",
    "\n",
    "x = np.linspace(0,10,250)\n",
    "y = f(x)\n",
    "\n",
    "plt.plot(x, y, 'g-', label='actual')\n",
    "plt.legend(loc='upper right');"
   ]
  },
  {
   "cell_type": "code",
   "execution_count": null,
   "metadata": {},
   "outputs": [],
   "source": [
    "# Data sample from the actual signal\n",
    "x_data = np.linspace(0,10,50)\n",
    "y_data = f(x_data)\n",
    "\n",
    "plt.plot(x_data,y_data,'c.',markersize=15, label='sample')\n",
    "plt.legend(loc='upper right')\n",
    "plt.show()"
   ]
  },
  {
   "cell_type": "code",
   "execution_count": null,
   "metadata": {},
   "outputs": [],
   "source": [
    "# Create the interpolator and generate interpolated data over a sample range x\n",
    "f_itp = itp.interp1d(x_data, y_data)\n",
    "\n",
    "x_new = np.linspace(1,9,100)\n",
    "y_new = f_itp(x_new)\n",
    "\n",
    "plt.plot(x, y, 'g-', label='actual')\n",
    "plt.plot(x_data,y_data,'c.',markersize=15, label='sample')\n",
    "plt.plot(x_new, y_new, 'r.', label='1-D interpolation')\n",
    "plt.legend(loc='upper right')\n",
    "plt.show()"
   ]
  },
  {
   "cell_type": "markdown",
   "metadata": {},
   "source": [
    "You can see that the linear interpolation can be a crude approximation for highly non-linear functions. A more sophisticated approach is to use a polynomial interpolator. Below is an example of a CubicSpline. "
   ]
  },
  {
   "cell_type": "code",
   "execution_count": null,
   "metadata": {},
   "outputs": [],
   "source": [
    "# Polynomial 1D\n",
    "f_itp = itp.CubicSpline(x_data,y_data)\n",
    "\n",
    "x_new = np.linspace(1,9,100)\n",
    "y_new = f_itp(x_new)\n",
    "\n",
    "plt.plot(x, y, 'g-', label='actual')\n",
    "plt.plot(x_data,y_data,'c.',markersize=15, label='sample')\n",
    "plt.plot(x_new, y_new, 'r.', label='1-D interpolation')\n",
    "plt.legend(loc='upper right')\n",
    "plt.show()\n"
   ]
  },
  {
   "cell_type": "markdown",
   "metadata": {},
   "source": [
    "### Curve fitting\n",
    "\n",
    "Fitting experimental data to known functions is a common practice in science and engineering. The optimize package from SciPy provides a curve fitting routine. Below is an example."
   ]
  },
  {
   "cell_type": "code",
   "execution_count": null,
   "metadata": {},
   "outputs": [],
   "source": [
    "# We'll define a function that accepts x and equation parameters and returns f(x).\n",
    "def func(x, a, b, c):\n",
    "    return a * np.exp(-b * x) + c\n",
    "\n",
    "xdata = np.linspace(0, 4, 50)\n",
    "np.random.seed(1729)\n",
    "y = func(xdata, 2.5, 1.3, 0.5)\n",
    "\n",
    "ydata = y + np.random.normal(0,0.1, size=xdata.size)\n",
    "\n",
    "plt.plot(xdata, ydata, 'b.', label='data')\n",
    "plt.xlabel('x')\n",
    "plt.ylabel('y')\n",
    "plt.legend()\n",
    "plt.show()"
   ]
  },
  {
   "cell_type": "markdown",
   "metadata": {},
   "source": [
    "Now we'll do the curvefit. Note that the curve_fit function returns both a parameters and a convariance matrix. We will use the covariance matrix to provide an estimate on the parameter uncertainty."
   ]
  },
  {
   "cell_type": "code",
   "execution_count": null,
   "metadata": {},
   "outputs": [],
   "source": [
    "curve_fit?"
   ]
  },
  {
   "cell_type": "code",
   "execution_count": null,
   "metadata": {},
   "outputs": [],
   "source": [
    "popt, pcov = curve_fit(func, xdata, ydata, bounds=[[0,0,0],[5,5,5]])\n",
    "\n",
    "err = np.sqrt(np.diag(pcov)**2)\n",
    "\n",
    "print('a: %.6f'%popt[0], '+/- %.6f'%err[0])\n",
    "print('b: %.6f'%popt[1], '+/- %.6f'%err[1])\n",
    "print('c: %.6f'%popt[2], '+/- %.6f'%err[2])\n"
   ]
  },
  {
   "cell_type": "code",
   "execution_count": null,
   "metadata": {},
   "outputs": [],
   "source": [
    "#Analyze the fit.\n",
    "plt.plot(xdata, func(xdata, *popt), 'r-',\n",
    "         label='fit: a=%5.3f, b=%5.3f, c=%5.3f' % tuple(popt))\n",
    "\n",
    "plt.plot(xdata, ydata, 'b.', label='data')\n",
    "plt.xlabel('x')\n",
    "plt.ylabel('y')\n",
    "plt.legend()\n",
    "plt.show()"
   ]
  },
  {
   "cell_type": "markdown",
   "metadata": {},
   "source": [
    "Exercise 2. The daily average temperatures from Albany are provided with a code snippet to load in the following cell.\n",
    "\n",
    "Fit the data to the following function:\n",
    "\n",
    "<center>$f(t)=a*sin(2πt+b) + c$</center>\n",
    " \n",
    "where  t  is the time in <b><i>years</i></b>. Make a plot of the data and the best-fit model.\n",
    "\n",
    "Submit the best-fit values of the parameters to day3_eval2() to see how you did. "
   ]
  },
  {
   "cell_type": "code",
   "execution_count": null,
   "metadata": {},
   "outputs": [],
   "source": [
    "# The following code reads in the data from a csv file\n",
    "day, temperature = np.loadtxt('albany_weather_data.csv', unpack=True, delimiter=',')\n",
    "\n",
    "plt.plot(day, temperature, 'c.')\n",
    "plt.title('Daily Mean Temp, Albany, NY - 2017')\n",
    "plt.xlabel('Time (d)')\n",
    "plt.ylabel('Temperature (C)')\n",
    "plt.show()\n"
   ]
  },
  {
   "cell_type": "code",
   "execution_count": null,
   "metadata": {},
   "outputs": [],
   "source": [
    "def f(t, a, b, c):\n",
    "    return a * np.sin(2 * np.pi * t + b) + c\n",
    "\n",
    "t_norm = day / 365\n",
    "\n",
    "popt, pcov = curve_fit(f, t_norm, temperature, p0=[-10,1,10])\n",
    "\n",
    "y_pred = f(t_norm, *popt)\n",
    "\n",
    "plt.plot(day, temperature, 'c.')\n",
    "plt.plot(day, y_pred, 'r-')\n",
    "plt.title('Daily Mean Temp, Albany, NY - 2017')\n",
    "plt.xlabel('Time (d)')\n",
    "plt.ylabel('Temperature (C)')\n",
    "plt.show()\n",
    "\n",
    "print(popt)\n",
    "\n",
    "day3_eval2(popt)\n",
    "\n"
   ]
  },
  {
   "cell_type": "markdown",
   "metadata": {},
   "source": [
    "### Unconstrained Minimization\n",
    "\n",
    "To demonstrate the available minimizers in the SciPy optimizer package we will do a simple least-squares regression on the Albany dataset. The default minimizer for unconstrained problems without bounds is the Nelder-Mead simplex method. Additional information on the available solvers can be found here:\n",
    "<br> https://docs.scipy.org/doc/scipy/reference/generated/scipy.optimize.minimize.html#scipy.optimize.minimize"
   ]
  },
  {
   "cell_type": "code",
   "execution_count": null,
   "metadata": {},
   "outputs": [],
   "source": [
    "# First lets define our target, or fit, function f(t)\n",
    "def f(t, a, b, c):\n",
    "    return a * np.sin(2 * np.pi * t / 365 + b) + c\n",
    "\n",
    "# Then we'll define our cost function as a function of the target function parameters\n",
    "def mean_squared_error(p):\n",
    "    return ((temperature - f(day, p[0], p[1], p[2])) ** 2).mean()\n",
    "\n",
    "p0 = np.ones(3)\n",
    "mean_squared_error(p0)"
   ]
  },
  {
   "cell_type": "markdown",
   "metadata": {},
   "source": [
    "Note that the minimizer provides the parameter matrix (res.x) and the inverse Hessian matrix (res.hess_inv). We will use the inverse Hessian to compute parameter uncertainties."
   ]
  },
  {
   "cell_type": "code",
   "execution_count": null,
   "metadata": {},
   "outputs": [],
   "source": [
    "minimize?"
   ]
  },
  {
   "cell_type": "code",
   "execution_count": null,
   "metadata": {},
   "outputs": [],
   "source": [
    "res = minimize(mean_squared_error,p0)\n",
    "print(res)\n",
    "err = np.sqrt(np.diag(res.hess_inv) ** 2)\n",
    "\n",
    "print('\\na: %.6f'%res.x[0], '+/- %.6f'%err[0])\n",
    "print('b: %.6f'%res.x[1], '+/- %.6f'%err[1])\n",
    "print('c: %.6f'%res.x[2], '+/- %.6f'%err[2])"
   ]
  },
  {
   "cell_type": "code",
   "execution_count": null,
   "metadata": {},
   "outputs": [],
   "source": [
    "# Analyze the results\n",
    "temp_fit1 = f(day, *res.x)\n",
    "\n",
    "plt.plot(day, temperature, 'c.', label='data')\n",
    "plt.plot(day, temp_fit1, 'r-', label='fit: a=%5.3f, b=%5.3f, c=%5.3f' % tuple(res.x))\n",
    "\n",
    "plt.title('Daily Mean Temp, Albany, NY - 2017')\n",
    "plt.xlabel('time (d)')\n",
    "plt.ylabel('teperature (C)')\n",
    "plt.legend()\n",
    "plt.show()\n",
    "\n"
   ]
  },
  {
   "cell_type": "markdown",
   "metadata": {},
   "source": [
    "### Constrained Minimization"
   ]
  },
  {
   "cell_type": "code",
   "execution_count": null,
   "metadata": {},
   "outputs": [],
   "source": [
    "def cons(x):\n",
    "    # x > 15\n",
    "    # x - 15 > 0\n",
    "    return x[0] - 15.0\n",
    "\n",
    "x0 = np.ones(3) * 4\n",
    "constraints = [{'type': 'ineq', 'fun': cons}]\n",
    "\n",
    "res = minimize(mean_squared_error, x0, constraints=constraints)\n",
    "temp_fit2 = f(day, *res.x)\n",
    "\n",
    "plt.plot(day, temperature, 'c.', label='data')\n",
    "plt.plot(day, temp_fit1, 'b--', label='unconstrained fit')\n",
    "plt.plot(day, temp_fit2, 'g-', label='constrained fit: a=%5.3f, b=%5.3f, c=%5.3f' % tuple(res.x))\n",
    "\n",
    "plt.title('Daily Mean Temp, Albany, NY - 2017')\n",
    "plt.xlabel('time (d)')\n",
    "plt.ylabel('teperature (C)')\n",
    "plt.legend()\n",
    "plt.show()\n"
   ]
  },
  {
   "cell_type": "markdown",
   "metadata": {},
   "source": [
    "Exersize 3. Using the constrained minimizer above, add constraints on b & c parameters and plot your results below."
   ]
  },
  {
   "cell_type": "code",
   "execution_count": null,
   "metadata": {},
   "outputs": [],
   "source": [
    "def cons(x):\n",
    "    # x > 15\n",
    "    # x - 15 > 0\n",
    "    return x[0] - 15.0\n",
    "\n",
    "def cons1(x):\n",
    "    # x > 5\n",
    "    # x - 5 > 0\n",
    "    return x[1] - 5\n",
    "\n",
    "def cons2(x):\n",
    "    # x > 6\n",
    "    # x - 6 > 0\n",
    "    return x[2] - 6\n",
    "\n",
    "x0 = np.ones(3) * 4\n",
    "constraints = [{'type': 'ineq', 'fun': cons}, \n",
    "               {'type': 'ineq', 'fun': cons1},\n",
    "               {'type': 'ineq', 'fun': cons2}]\n",
    "\n",
    "res = minimize(mean_squared_error, x0, method='COBYLA',constraints=constraints)\n",
    "temp_fit2 = f(day, *res.x)\n",
    "\n",
    "plt.plot(day, temperature, 'c.', label='data')\n",
    "plt.plot(day, temp_fit1, 'b--', label='unconstrained fit')\n",
    "plt.plot(day, temp_fit2, 'g-', label='constrained fit: a=%5.3f, b=%5.3f, c=%5.3f' % tuple(res.x))\n",
    "\n",
    "plt.title('Daily Mean Temp, Albany, NY - 2017')\n",
    "plt.xlabel('time (d)')\n",
    "plt.ylabel('teperature (C)')\n",
    "plt.legend()\n",
    "plt.show()"
   ]
  },
  {
   "cell_type": "code",
   "execution_count": null,
   "metadata": {},
   "outputs": [],
   "source": []
  }
 ],
 "metadata": {
  "kernelspec": {
   "display_name": "Python 3",
   "language": "python",
   "name": "python3"
  },
  "language_info": {
   "codemirror_mode": {
    "name": "ipython",
    "version": 3
   },
   "file_extension": ".py",
   "mimetype": "text/x-python",
   "name": "python",
   "nbconvert_exporter": "python",
   "pygments_lexer": "ipython3",
   "version": "3.7.0"
  }
 },
 "nbformat": 4,
 "nbformat_minor": 2
}
